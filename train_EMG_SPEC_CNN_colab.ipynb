{
  "cells": [
    {
      "cell_type": "code",
      "execution_count": null,
      "metadata": {
        "colab": {
          "base_uri": "https://localhost:8080/"
        },
        "id": "k6D7gg0PIKl1",
        "outputId": "e4034dd0-1129-4007-d830-8368be94a83e"
      },
      "outputs": [],
      "source": [
        "# Clone the public repository (or your repository)\n",
        "!git clone https://github.com/angrytako/deep-learning-egovision.git\n"
      ]
    },
    {
      "cell_type": "code",
      "execution_count": 12,
      "metadata": {
        "colab": {
          "base_uri": "https://localhost:8080/"
        },
        "id": "ZKkcgZVjIRDk",
        "outputId": "dd39fbd3-a730-400f-df81-782a153288b6"
      },
      "outputs": [
        {
          "name": "stdout",
          "output_type": "stream",
          "text": [
            "⏬ Downloading https://github.com/conda-forge/miniforge/releases/download/23.1.0-1/Mambaforge-23.1.0-1-Linux-x86_64.sh...\n",
            "📦 Installing...\n",
            "📌 Adjusting configuration...\n",
            "🩹 Patching environment...\n",
            "⏲ Done in 0:00:17\n",
            "🔁 Restarting kernel...\n"
          ]
        }
      ],
      "source": [
        "# Install conda on Google Colab\n",
        "\n",
        "!pip install -q condacolab\n",
        "import condacolab\n",
        "condacolab.install()"
      ]
    },
    {
      "cell_type": "code",
      "execution_count": null,
      "metadata": {
        "colab": {
          "base_uri": "https://localhost:8080/"
        },
        "id": "ms9AgMu8IS9Z",
        "outputId": "2d633b46-6dad-497a-8fdd-36c579b03592"
      },
      "outputs": [],
      "source": [
        "# Create a conda environment \n",
        "# As the creation of the Conda Environment may be a slow process, you may look at the `conda-pack`\n",
        "# package to store the environment in a .tar.gz archive you can store on Google Drive and restore later.\n",
        "\n",
        "!conda env create --name egovision -f /content/deep-learning-egovision/requirements.yaml"
      ]
    },
    {
      "cell_type": "code",
      "execution_count": null,
      "metadata": {
        "colab": {
          "base_uri": "https://localhost:8080/"
        },
        "id": "rLc8u76AXMJR",
        "outputId": "b7ff15db-1aff-49a3-c03b-8afa24051f8b"
      },
      "outputs": [],
      "source": [
        "%%bash\n",
        "## EMG_SPEC CNN training\n",
        "\n",
        "cd /content/deep-learning-egovision\n",
        "\n",
        "PYTHON_PATH=/usr/local/envs/egovision/bin/python\n",
        "$PYTHON_PATH train_classifier.py name=cnn_emg_spec_actionNet_train_no_sampl \\\n",
        "  dataset.shift=S0401-S0401 dataset.annotations_path=actionNet\\\n",
        "  load_feat=False\\\n",
        "  need_clips=False\\\n",
        "  dataset.EMG.data_path=./actionNet/\\\n",
        "  modality=[\"EMG_SPEC\"]"
      ]
    }
  ],
  "metadata": {
    "accelerator": "GPU",
    "colab": {
      "gpuType": "T4",
      "provenance": []
    },
    "kernelspec": {
      "display_name": "Python 3",
      "name": "python3"
    },
    "language_info": {
      "name": "python"
    }
  },
  "nbformat": 4,
  "nbformat_minor": 0
}
