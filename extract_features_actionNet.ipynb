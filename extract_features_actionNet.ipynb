{
  "cells": [
    {
      "attachments": {},
      "cell_type": "markdown",
      "metadata": {
        "id": "_7q2eVEoK3y6"
      },
      "source": [
        "D2 = P01\n",
        "D1 = P08\n",
        "D3 = P22\n"
      ]
    },
    {
      "cell_type": "code",
      "execution_count": 1,
      "metadata": {
        "colab": {
          "base_uri": "https://localhost:8080/"
        },
        "id": "tS872TFsRdiN",
        "outputId": "573f83cd-75bf-4761-caf5-55c80b63c1f1"
      },
      "outputs": [
        {
          "name": "stdout",
          "output_type": "stream",
          "text": [
            "Mounted at /content/drive\n"
          ]
        }
      ],
      "source": [
        "from google.colab import drive\n",
        "drive.mount('/content/drive', force_remount=True)"
      ]
    },
    {
      "cell_type": "code",
      "execution_count": 6,
      "metadata": {
        "id": "qYpglUvjFAry"
      },
      "outputs": [],
      "source": [
        "!cp -r /content/drive/MyDrive/PROGETTO_MLDL/actionNet/ ./act_data"
      ]
    },
    {
      "cell_type": "code",
      "execution_count": 11,
      "metadata": {
        "id": "BI_4JzZ4EE7t"
      },
      "outputs": [],
      "source": [
        "import zipfile\n",
        "\n",
        "zip_ref = zipfile.ZipFile(\"act_data/S04_01.zip\", 'r')"
      ]
    },
    {
      "cell_type": "code",
      "execution_count": 12,
      "metadata": {
        "id": "tMMPtyy9Ijbn"
      },
      "outputs": [],
      "source": [
        "listOfFileNames = zip_ref.namelist()\n",
        "   # Iterate over the file names\n",
        "for fileName in listOfFileNames:\n",
        "   zip_ref.extract(fileName, 'act_data')"
      ]
    },
    {
      "cell_type": "code",
      "execution_count": 15,
      "metadata": {
        "colab": {
          "base_uri": "https://localhost:8080/"
        },
        "id": "k6D7gg0PIKl1",
        "outputId": "63e5c359-bab3-4644-8091-8dabf6ad519b"
      },
      "outputs": [
        {
          "name": "stdout",
          "output_type": "stream",
          "text": [
            "Cloning into 'deep-learning-egovision'...\n",
            "remote: Enumerating objects: 218, done.\u001b[K\n",
            "remote: Counting objects: 100% (18/18), done.\u001b[K\n",
            "remote: Compressing objects: 100% (12/12), done.\u001b[K\n",
            "remote: Total 218 (delta 6), reused 8 (delta 6), pack-reused 200\u001b[K\n",
            "Receiving objects: 100% (218/218), 949.44 MiB | 17.28 MiB/s, done.\n",
            "Resolving deltas: 100% (94/94), done.\n",
            "Updating files: 100% (54/54), done.\n"
          ]
        }
      ],
      "source": [
        "# Clone the public repository (or your repository)\n",
        "!git clone https://github.com/angrytako/deep-learning-egovision.git\n"
      ]
    },
    {
      "cell_type": "code",
      "execution_count": 17,
      "metadata": {
        "id": "VTkasysO31wM"
      },
      "outputs": [],
      "source": [
        "!cp -r /content/drive/MyDrive/PROGETTO_MLDL/checkpoints/saved_models  /content/deep-learning-egovision"
      ]
    },
    {
      "cell_type": "code",
      "execution_count": 18,
      "metadata": {
        "id": "z5j0rkj2dBOB"
      },
      "outputs": [],
      "source": [
        "!cp -r act_data/S04_01  /content/deep-learning-egovision/actionNet"
      ]
    },
    {
      "cell_type": "code",
      "execution_count": 2,
      "metadata": {
        "colab": {
          "base_uri": "https://localhost:8080/"
        },
        "id": "ZKkcgZVjIRDk",
        "outputId": "16c7f110-36a8-4e34-b626-023bce6d0db8"
      },
      "outputs": [
        {
          "name": "stdout",
          "output_type": "stream",
          "text": [
            "\u001b[33mWARNING: Running pip as the 'root' user can result in broken permissions and conflicting behaviour with the system package manager. It is recommended to use a virtual environment instead: https://pip.pypa.io/warnings/venv\u001b[0m\u001b[33m\n",
            "\u001b[0m✨🍰✨ Everything looks OK!\n"
          ]
        }
      ],
      "source": [
        "# Install conda on Google Colab\n",
        "\n",
        "!pip install -q condacolab\n",
        "import condacolab\n",
        "condacolab.install()"
      ]
    },
    {
      "cell_type": "code",
      "execution_count": null,
      "metadata": {
        "id": "ms9AgMu8IS9Z"
      },
      "outputs": [],
      "source": [
        "# Create a conda environment \n",
        "# As the creation of the Conda Environment may be a slow process, you may look at the `conda-pack`\n",
        "# package to store the environment in a .tar.gz archive you can store on Google Drive and restore later.\n",
        "\n",
        "!conda env create --name egovision -f /content/deep-learning-egovision/requirements.yaml"
      ]
    },
    {
      "cell_type": "code",
      "execution_count": null,
      "metadata": {
        "colab": {
          "base_uri": "https://localhost:8080/",
          "height": 1000
        },
        "id": "0VMJkXmSF_ZU",
        "outputId": "fe9a369d-aa02-41da-d43a-ad62e923f5ec"
      },
      "outputs": [],
      "source": [
        "%%bash\n",
        "## Features extraction\n",
        "\n",
        "cd /content/deep-learning-egovision\n",
        "\n",
        "PYTHON_PATH=/usr/local/envs/egovision/bin/python\n",
        "$PYTHON_PATH save_feat.py name=features_actionNet_test_uniform_15 \\\n",
        "  config=configs/I3D_save_feat.yaml split=test \\\n",
        "  dataset.shift=S0401-S0401 dataset.annotations_path=actionNet\\\n",
        "  dataset.RGB.data_path=./actionNet/"
      ]
    },
    {
      "cell_type": "code",
      "execution_count": 45,
      "metadata": {
        "id": "wkdSojSwfMGd"
      },
      "outputs": [],
      "source": [
        "!cp -r /content/deep-learning-egovision/saved_features /content/drive/MyDrive/PROGETTO_MLDL/actionNet"
      ]
    }
  ],
  "metadata": {
    "accelerator": "GPU",
    "colab": {
      "gpuType": "T4",
      "provenance": []
    },
    "kernelspec": {
      "display_name": "Python 3",
      "name": "python3"
    },
    "language_info": {
      "name": "python"
    }
  },
  "nbformat": 4,
  "nbformat_minor": 0
}
