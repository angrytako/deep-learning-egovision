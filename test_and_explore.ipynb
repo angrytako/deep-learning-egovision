{
 "cells": [
  {
   "cell_type": "code",
   "execution_count": 28,
   "metadata": {},
   "outputs": [],
   "source": [
    "import pandas as pd"
   ]
  },
  {
   "cell_type": "code",
   "execution_count": 29,
   "metadata": {},
   "outputs": [],
   "source": [
    "pickle_example = pd.read_pickle(\"./train_val/D2_train.pkl\")"
   ]
  },
  {
   "cell_type": "code",
   "execution_count": 30,
   "metadata": {},
   "outputs": [],
   "source": [
    "pickle_action = pd.read_pickle(\"./action-net/ActionNet_test.pkl\")"
   ]
  },
  {
   "cell_type": "code",
   "execution_count": 31,
   "metadata": {},
   "outputs": [
    {
     "ename": "SyntaxError",
     "evalue": "invalid syntax (2961311852.py, line 1)",
     "output_type": "error",
     "traceback": [
      "\u001b[1;36m  Cell \u001b[1;32mIn[31], line 1\u001b[1;36m\u001b[0m\n\u001b[1;33m    pickle_action[]\u001b[0m\n\u001b[1;37m                  ^\u001b[0m\n\u001b[1;31mSyntaxError\u001b[0m\u001b[1;31m:\u001b[0m invalid syntax\n"
     ]
    }
   ],
   "source": [
    "pickle_action[]"
   ]
  },
  {
   "cell_type": "code",
   "execution_count": null,
   "metadata": {},
   "outputs": [
    {
     "data": {
      "text/html": [
       "<div>\n",
       "<style scoped>\n",
       "    .dataframe tbody tr th:only-of-type {\n",
       "        vertical-align: middle;\n",
       "    }\n",
       "\n",
       "    .dataframe tbody tr th {\n",
       "        vertical-align: top;\n",
       "    }\n",
       "\n",
       "    .dataframe thead th {\n",
       "        text-align: right;\n",
       "    }\n",
       "</style>\n",
       "<table border=\"1\" class=\"dataframe\">\n",
       "  <thead>\n",
       "    <tr style=\"text-align: right;\">\n",
       "      <th></th>\n",
       "      <th>uid</th>\n",
       "      <th>participant_id</th>\n",
       "      <th>video_id</th>\n",
       "      <th>narration</th>\n",
       "      <th>start_timestamp</th>\n",
       "      <th>stop_timestamp</th>\n",
       "      <th>start_frame</th>\n",
       "      <th>stop_frame</th>\n",
       "      <th>verb</th>\n",
       "      <th>verb_class</th>\n",
       "    </tr>\n",
       "  </thead>\n",
       "  <tbody>\n",
       "    <tr>\n",
       "      <th>0</th>\n",
       "      <td>12915</td>\n",
       "      <td>P08</td>\n",
       "      <td>P08_01</td>\n",
       "      <td>open fridge</td>\n",
       "      <td>00:00:04.09</td>\n",
       "      <td>00:00:05.84</td>\n",
       "      <td>245</td>\n",
       "      <td>350</td>\n",
       "      <td>open</td>\n",
       "      <td>2</td>\n",
       "    </tr>\n",
       "    <tr>\n",
       "      <th>1</th>\n",
       "      <td>12916</td>\n",
       "      <td>P08</td>\n",
       "      <td>P08_01</td>\n",
       "      <td>get milk</td>\n",
       "      <td>00:00:05.94</td>\n",
       "      <td>00:00:07.23</td>\n",
       "      <td>356</td>\n",
       "      <td>433</td>\n",
       "      <td>get</td>\n",
       "      <td>0</td>\n",
       "    </tr>\n",
       "    <tr>\n",
       "      <th>2</th>\n",
       "      <td>12917</td>\n",
       "      <td>P08</td>\n",
       "      <td>P08_01</td>\n",
       "      <td>close fridge</td>\n",
       "      <td>00:00:07.29</td>\n",
       "      <td>00:00:08.95</td>\n",
       "      <td>437</td>\n",
       "      <td>537</td>\n",
       "      <td>close</td>\n",
       "      <td>3</td>\n",
       "    </tr>\n",
       "    <tr>\n",
       "      <th>3</th>\n",
       "      <td>12918</td>\n",
       "      <td>P08</td>\n",
       "      <td>P08_01</td>\n",
       "      <td>get moka</td>\n",
       "      <td>00:00:10.64</td>\n",
       "      <td>00:00:13.50</td>\n",
       "      <td>638</td>\n",
       "      <td>810</td>\n",
       "      <td>get</td>\n",
       "      <td>0</td>\n",
       "    </tr>\n",
       "    <tr>\n",
       "      <th>4</th>\n",
       "      <td>12919</td>\n",
       "      <td>P08</td>\n",
       "      <td>P08_01</td>\n",
       "      <td>place water</td>\n",
       "      <td>00:00:15.72</td>\n",
       "      <td>00:00:21.14</td>\n",
       "      <td>943</td>\n",
       "      <td>1268</td>\n",
       "      <td>place</td>\n",
       "      <td>1</td>\n",
       "    </tr>\n",
       "    <tr>\n",
       "      <th>...</th>\n",
       "      <td>...</td>\n",
       "      <td>...</td>\n",
       "      <td>...</td>\n",
       "      <td>...</td>\n",
       "      <td>...</td>\n",
       "      <td>...</td>\n",
       "      <td>...</td>\n",
       "      <td>...</td>\n",
       "      <td>...</td>\n",
       "      <td>...</td>\n",
       "    </tr>\n",
       "    <tr>\n",
       "      <th>1538</th>\n",
       "      <td>15576</td>\n",
       "      <td>P08</td>\n",
       "      <td>P08_28</td>\n",
       "      <td>take bowl</td>\n",
       "      <td>00:00:21.40</td>\n",
       "      <td>00:00:22.79</td>\n",
       "      <td>1284</td>\n",
       "      <td>1367</td>\n",
       "      <td>take</td>\n",
       "      <td>0</td>\n",
       "    </tr>\n",
       "    <tr>\n",
       "      <th>1539</th>\n",
       "      <td>15577</td>\n",
       "      <td>P08</td>\n",
       "      <td>P08_28</td>\n",
       "      <td>open fridge</td>\n",
       "      <td>00:00:22.08</td>\n",
       "      <td>00:00:23.69</td>\n",
       "      <td>1324</td>\n",
       "      <td>1421</td>\n",
       "      <td>open</td>\n",
       "      <td>2</td>\n",
       "    </tr>\n",
       "    <tr>\n",
       "      <th>1540</th>\n",
       "      <td>15578</td>\n",
       "      <td>P08</td>\n",
       "      <td>P08_28</td>\n",
       "      <td>place bowl</td>\n",
       "      <td>00:00:23.04</td>\n",
       "      <td>00:00:25.13</td>\n",
       "      <td>1382</td>\n",
       "      <td>1507</td>\n",
       "      <td>place</td>\n",
       "      <td>1</td>\n",
       "    </tr>\n",
       "    <tr>\n",
       "      <th>1541</th>\n",
       "      <td>15579</td>\n",
       "      <td>P08</td>\n",
       "      <td>P08_28</td>\n",
       "      <td>close fridge</td>\n",
       "      <td>00:00:24.67</td>\n",
       "      <td>00:00:26.17</td>\n",
       "      <td>1480</td>\n",
       "      <td>1570</td>\n",
       "      <td>close</td>\n",
       "      <td>3</td>\n",
       "    </tr>\n",
       "    <tr>\n",
       "      <th>1542</th>\n",
       "      <td>15581</td>\n",
       "      <td>P08</td>\n",
       "      <td>P08_28</td>\n",
       "      <td>wipe hands</td>\n",
       "      <td>00:00:28.66</td>\n",
       "      <td>00:00:31.55</td>\n",
       "      <td>1719</td>\n",
       "      <td>1893</td>\n",
       "      <td>wipe</td>\n",
       "      <td>4</td>\n",
       "    </tr>\n",
       "  </tbody>\n",
       "</table>\n",
       "<p>1543 rows × 10 columns</p>\n",
       "</div>"
      ],
      "text/plain": [
       "        uid participant_id video_id     narration start_timestamp  \\\n",
       "0     12915            P08   P08_01   open fridge     00:00:04.09   \n",
       "1     12916            P08   P08_01      get milk     00:00:05.94   \n",
       "2     12917            P08   P08_01  close fridge     00:00:07.29   \n",
       "3     12918            P08   P08_01      get moka     00:00:10.64   \n",
       "4     12919            P08   P08_01   place water     00:00:15.72   \n",
       "...     ...            ...      ...           ...             ...   \n",
       "1538  15576            P08   P08_28     take bowl     00:00:21.40   \n",
       "1539  15577            P08   P08_28   open fridge     00:00:22.08   \n",
       "1540  15578            P08   P08_28    place bowl     00:00:23.04   \n",
       "1541  15579            P08   P08_28  close fridge     00:00:24.67   \n",
       "1542  15581            P08   P08_28    wipe hands     00:00:28.66   \n",
       "\n",
       "     stop_timestamp  start_frame  stop_frame   verb  verb_class  \n",
       "0       00:00:05.84          245         350   open           2  \n",
       "1       00:00:07.23          356         433    get           0  \n",
       "2       00:00:08.95          437         537  close           3  \n",
       "3       00:00:13.50          638         810    get           0  \n",
       "4       00:00:21.14          943        1268  place           1  \n",
       "...             ...          ...         ...    ...         ...  \n",
       "1538    00:00:22.79         1284        1367   take           0  \n",
       "1539    00:00:23.69         1324        1421   open           2  \n",
       "1540    00:00:25.13         1382        1507  place           1  \n",
       "1541    00:00:26.17         1480        1570  close           3  \n",
       "1542    00:00:31.55         1719        1893   wipe           4  \n",
       "\n",
       "[1543 rows x 10 columns]"
      ]
     },
     "execution_count": 5,
     "metadata": {},
     "output_type": "execute_result"
    }
   ],
   "source": [
    "pickle_example"
   ]
  },
  {
   "cell_type": "code",
   "execution_count": null,
   "metadata": {},
   "outputs": [
    {
     "data": {
      "text/plain": [
       "{0, 1, 2, 3, 4, 5, 6, 7}"
      ]
     },
     "execution_count": 18,
     "metadata": {},
     "output_type": "execute_result"
    }
   ],
   "source": [
    "set(pickle_example[\"verb_class\"])"
   ]
  },
  {
   "cell_type": "code",
   "execution_count": null,
   "metadata": {},
   "outputs": [
    {
     "data": {
      "text/plain": [
       "25"
      ]
     },
     "execution_count": 14,
     "metadata": {},
     "output_type": "execute_result"
    }
   ],
   "source": [
    "len(set(pickle_example[\"verb\"]))"
   ]
  },
  {
   "cell_type": "code",
   "execution_count": null,
   "metadata": {},
   "outputs": [
    {
     "data": {
      "text/plain": [
       "Index(['uid', 'participant_id', 'video_id', 'narration', 'start_timestamp',\n",
       "       'stop_timestamp', 'start_frame', 'stop_frame', 'verb', 'verb_class'],\n",
       "      dtype='object')"
      ]
     },
     "execution_count": 6,
     "metadata": {},
     "output_type": "execute_result"
    }
   ],
   "source": [
    "pickle_example.columns"
   ]
  },
  {
   "cell_type": "code",
   "execution_count": null,
   "metadata": {},
   "outputs": [
    {
     "name": "stdout",
     "output_type": "stream",
     "text": [
      "0\n",
      "uid                          0\n",
      "participant_id             P01\n",
      "video_id                P01_01\n",
      "narration            open door\n",
      "start_timestamp    00:00:00.14\n",
      "stop_timestamp     00:00:03.37\n",
      "start_frame                  8\n",
      "stop_frame                 202\n",
      "verb                      open\n",
      "verb_class                   2\n",
      "Name: 0, dtype: object \n",
      "\n",
      "1\n",
      "uid                          2\n",
      "participant_id             P01\n",
      "video_id                P01_01\n",
      "narration           close door\n",
      "start_timestamp    00:00:06.98\n",
      "stop_timestamp     00:00:09.49\n",
      "start_frame                418\n",
      "stop_frame                 569\n",
      "verb                     close\n",
      "verb_class                   3\n",
      "Name: 1, dtype: object \n",
      "\n"
     ]
    }
   ],
   "source": [
    "i = 0\n",
    "for tup in pickle_example.iterrows():\n",
    "    print(tup[0])\n",
    "    print(tup[1],\"\\n\")\n",
    "    if i == 1: break \n",
    "    i+=1"
   ]
  },
  {
   "cell_type": "code",
   "execution_count": null,
   "metadata": {},
   "outputs": [
    {
     "data": {
      "text/plain": [
       "{'P01_01',\n",
       " 'P01_02',\n",
       " 'P01_03',\n",
       " 'P01_04',\n",
       " 'P01_05',\n",
       " 'P01_06',\n",
       " 'P01_07',\n",
       " 'P01_08',\n",
       " 'P01_09',\n",
       " 'P01_10',\n",
       " 'P01_16',\n",
       " 'P01_17',\n",
       " 'P01_18',\n",
       " 'P01_19'}"
      ]
     },
     "execution_count": 14,
     "metadata": {},
     "output_type": "execute_result"
    }
   ],
   "source": [
    "set(pickle_example[\"video_id\"])"
   ]
  },
  {
   "cell_type": "code",
   "execution_count": null,
   "metadata": {},
   "outputs": [
    {
     "data": {
      "text/plain": [
       "(1543, 22)"
      ]
     },
     "execution_count": 7,
     "metadata": {},
     "output_type": "execute_result"
    }
   ],
   "source": [
    "len(pickle_example[\"video_id\"]), len(set(pickle_example[\"video_id\"]))"
   ]
  },
  {
   "cell_type": "code",
   "execution_count": null,
   "metadata": {},
   "outputs": [
    {
     "data": {
      "text/plain": [
       "'get'"
      ]
     },
     "execution_count": 8,
     "metadata": {},
     "output_type": "execute_result"
    }
   ],
   "source": [
    "pickle_example[\"verb\"][3]"
   ]
  },
  {
   "cell_type": "code",
   "execution_count": null,
   "metadata": {},
   "outputs": [
    {
     "data": {
      "text/plain": [
       "'get moka'"
      ]
     },
     "execution_count": 9,
     "metadata": {},
     "output_type": "execute_result"
    }
   ],
   "source": [
    "pickle_example[\"narration\"][3]"
   ]
  },
  {
   "cell_type": "code",
   "execution_count": null,
   "metadata": {},
   "outputs": [
    {
     "ename": "ModuleNotFoundError",
     "evalue": "No module named 'omegaconf'",
     "output_type": "error",
     "traceback": [
      "\u001b[1;31m---------------------------------------------------------------------------\u001b[0m",
      "\u001b[1;31mModuleNotFoundError\u001b[0m                       Traceback (most recent call last)",
      "Cell \u001b[1;32mIn[10], line 1\u001b[0m\n\u001b[1;32m----> 1\u001b[0m \u001b[39mfrom\u001b[39;00m \u001b[39momegaconf\u001b[39;00m \u001b[39mimport\u001b[39;00m OmegaConf\n",
      "\u001b[1;31mModuleNotFoundError\u001b[0m: No module named 'omegaconf'"
     ]
    }
   ],
   "source": [
    "from omegaconf import OmegaConf"
   ]
  },
  {
   "cell_type": "code",
   "execution_count": null,
   "metadata": {},
   "outputs": [],
   "source": [
    "yaml_configs = OmegaConf.load(\"configs/default.yaml\")"
   ]
  },
  {
   "cell_type": "code",
   "execution_count": null,
   "metadata": {},
   "outputs": [
    {
     "data": {
      "text/plain": [
       "{'action': '???', 'name': '???', 'modality': ['RGB'], 'total_batch': 128, 'batch_size': 32, 'gpus': None, 'wandb_name': None, 'resume_from': None, 'logname': None, 'models_dir': None, 'train': {'num_iter': 5000, 'lr_steps': 3000, 'eval_freq': 50, 'num_clips': 1, 'dense_sampling': {'RGB': True}, 'num_frames_per_clip': {'RGB': 16}}, 'test': {'num_clips': 5, 'dense_sampling': {'RGB': True}, 'num_frames_per_clip': {'RGB': 16}}, 'dataset': {'annotations_path': 'train_val', 'shift': '???', 'workers': 4, 'stride': 2, 'resolution': 224, 'RGB': {'data_path': '???', 'tmpl': 'img_{:010d}.jpg', 'features_name': 'test_feat_kinetics'}, 'Event': {'rgb4e': 6}}, 'models': {'RGB': {'model': 'Classifier', 'normalize': False, 'kwargs': {}, 'lr_steps': 3000, 'lr': 0.01, 'sgd_momentum': 0.9, 'weight_decay': 1e-07}}}"
      ]
     },
     "execution_count": 6,
     "metadata": {},
     "output_type": "execute_result"
    }
   ],
   "source": [
    "yaml_configs"
   ]
  },
  {
   "cell_type": "code",
   "execution_count": null,
   "metadata": {},
   "outputs": [
    {
     "data": {
      "text/plain": [
       "(array([ 0,  1,  2,  3,  4,  5,  6,  7,  8,  9, 10, 11, 12, 13, 14, 15, 16,\n",
       "        17, 18, 19], dtype=int16),\n",
       " True)"
      ]
     },
     "execution_count": 2,
     "metadata": {},
     "output_type": "execute_result"
    }
   ],
   "source": [
    "import numpy as np\n",
    "num_clip = 4\n",
    "num_frames = 20\n",
    "frames_per_clip = 5\n",
    "intervals = np.int16(np.linspace(0, num_frames, num_clip+1))\n",
    "frames = np.array([], dtype=np.int16)\n",
    "for i, first in enumerate(intervals[0:-1]):\n",
    "    last = intervals[i+1]\n",
    "    frames = np.hstack([frames,np.int16(np.linspace(first, last-1, frames_per_clip))])\n",
    "frames, len(frames) == frames_per_clip*num_clip\n"
   ]
  },
  {
   "cell_type": "code",
   "execution_count": null,
   "metadata": {},
   "outputs": [],
   "source": [
    "import numpy as np\n",
    "import random as rd\n",
    "num_clip = 4\n",
    "num_frames = 40\n",
    "frames_per_part = (frames_per_clip-1)//2\n",
    "frames = np.array([],dtype=np.int16)\n",
    "\n",
    "video = np.arange(0,num_frames+1)\n",
    "\n",
    "stride = 3\n",
    "centrals = np.random.choice(video[frames_per_part*stride+1:-frames_per_part*stride-1], num_clip,replace= False)\n",
    "centrals = np.sort(centrals)\n",
    "for i in centrals:\n",
    "   frames = np.append(frames,np.concatenate([video[i-stride*frames_per_part:i:stride],[i],video[i+stride:i+stride+stride*frames_per_part:stride]]))\n"
   ]
  },
  {
   "cell_type": "code",
   "execution_count": null,
   "metadata": {},
   "outputs": [
    {
     "data": {
      "text/plain": [
       "array([ 7, 10, 13, 16, 19, 12, 15, 18, 21, 24, 15, 18, 21, 24, 27, 22, 25,\n",
       "       28, 31, 34])"
      ]
     },
     "execution_count": 8,
     "metadata": {},
     "output_type": "execute_result"
    }
   ],
   "source": [
    "frames\n"
   ]
  },
  {
   "cell_type": "code",
   "execution_count": 4,
   "metadata": {},
   "outputs": [
    {
     "data": {
      "text/plain": [
       "Classifier()"
      ]
     },
     "execution_count": 4,
     "metadata": {},
     "output_type": "execute_result"
    }
   ],
   "source": [
    "import models as model_list\n",
    "\n",
    "getattr(model_list, \"Classifier\")(1024, 8)"
   ]
  }
 ],
 "metadata": {
  "kernelspec": {
   "display_name": "tests",
   "language": "python",
   "name": "python3"
  },
  "language_info": {
   "codemirror_mode": {
    "name": "ipython",
    "version": 3
   },
   "file_extension": ".py",
   "mimetype": "text/x-python",
   "name": "python",
   "nbconvert_exporter": "python",
   "pygments_lexer": "ipython3",
   "version": "3.10.9"
  },
  "orig_nbformat": 4,
  "vscode": {
   "interpreter": {
    "hash": "ffa4e3b9a73a267e32baeadd38c7ef5d97d190b34944b5a89d722fab40e071d6"
   }
  }
 },
 "nbformat": 4,
 "nbformat_minor": 2
}
