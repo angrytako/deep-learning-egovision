{
 "cells": [
  {
   "cell_type": "code",
   "execution_count": 28,
   "metadata": {},
   "outputs": [],
   "source": [
    "import pandas as pd"
   ]
  },
  {
   "cell_type": "code",
   "execution_count": 29,
   "metadata": {},
   "outputs": [],
   "source": [
    "pickle_example = pd.read_pickle(\"./train_val/D2_train.pkl\")"
   ]
  },
  {
   "cell_type": "code",
   "execution_count": 30,
   "metadata": {},
   "outputs": [],
   "source": [
    "pickle_action = pd.read_pickle(\"./action-net/ActionNet_test.pkl\")"
   ]
  },
  {
   "cell_type": "code",
   "execution_count": 31,
   "metadata": {},
   "outputs": [
    {
     "ename": "SyntaxError",
     "evalue": "invalid syntax (2961311852.py, line 1)",
     "output_type": "error",
     "traceback": [
      "\u001b[1;36m  Cell \u001b[1;32mIn[31], line 1\u001b[1;36m\u001b[0m\n\u001b[1;33m    pickle_action[]\u001b[0m\n\u001b[1;37m                  ^\u001b[0m\n\u001b[1;31mSyntaxError\u001b[0m\u001b[1;31m:\u001b[0m invalid syntax\n"
     ]
    }
   ],
   "source": [
    "pickle_action[]"
   ]
  },
  {
   "cell_type": "code",
   "execution_count": null,
   "metadata": {},
   "outputs": [
    {
     "data": {
      "text/html": [
       "<div>\n",
       "<style scoped>\n",
       "    .dataframe tbody tr th:only-of-type {\n",
       "        vertical-align: middle;\n",
       "    }\n",
       "\n",
       "    .dataframe tbody tr th {\n",
       "        vertical-align: top;\n",
       "    }\n",
       "\n",
       "    .dataframe thead th {\n",
       "        text-align: right;\n",
       "    }\n",
       "</style>\n",
       "<table border=\"1\" class=\"dataframe\">\n",
       "  <thead>\n",
       "    <tr style=\"text-align: right;\">\n",
       "      <th></th>\n",
       "      <th>uid</th>\n",
       "      <th>participant_id</th>\n",
       "      <th>video_id</th>\n",
       "      <th>narration</th>\n",
       "      <th>start_timestamp</th>\n",
       "      <th>stop_timestamp</th>\n",
       "      <th>start_frame</th>\n",
       "      <th>stop_frame</th>\n",
       "      <th>verb</th>\n",
       "      <th>verb_class</th>\n",
       "    </tr>\n",
       "  </thead>\n",
       "  <tbody>\n",
       "    <tr>\n",
       "      <th>0</th>\n",
       "      <td>12915</td>\n",
       "      <td>P08</td>\n",
       "      <td>P08_01</td>\n",
       "      <td>open fridge</td>\n",
       "      <td>00:00:04.09</td>\n",
       "      <td>00:00:05.84</td>\n",
       "      <td>245</td>\n",
       "      <td>350</td>\n",
       "      <td>open</td>\n",
       "      <td>2</td>\n",
       "    </tr>\n",
       "    <tr>\n",
       "      <th>1</th>\n",
       "      <td>12916</td>\n",
       "      <td>P08</td>\n",
       "      <td>P08_01</td>\n",
       "      <td>get milk</td>\n",
       "      <td>00:00:05.94</td>\n",
       "      <td>00:00:07.23</td>\n",
       "      <td>356</td>\n",
       "      <td>433</td>\n",
       "      <td>get</td>\n",
       "      <td>0</td>\n",
       "    </tr>\n",
       "    <tr>\n",
       "      <th>2</th>\n",
       "      <td>12917</td>\n",
       "      <td>P08</td>\n",
       "      <td>P08_01</td>\n",
       "      <td>close fridge</td>\n",
       "      <td>00:00:07.29</td>\n",
       "      <td>00:00:08.95</td>\n",
       "      <td>437</td>\n",
       "      <td>537</td>\n",
       "      <td>close</td>\n",
       "      <td>3</td>\n",
       "    </tr>\n",
       "    <tr>\n",
       "      <th>3</th>\n",
       "      <td>12918</td>\n",
       "      <td>P08</td>\n",
       "      <td>P08_01</td>\n",
       "      <td>get moka</td>\n",
       "      <td>00:00:10.64</td>\n",
       "      <td>00:00:13.50</td>\n",
       "      <td>638</td>\n",
       "      <td>810</td>\n",
       "      <td>get</td>\n",
       "      <td>0</td>\n",
       "    </tr>\n",
       "    <tr>\n",
       "      <th>4</th>\n",
       "      <td>12919</td>\n",
       "      <td>P08</td>\n",
       "      <td>P08_01</td>\n",
       "      <td>place water</td>\n",
       "      <td>00:00:15.72</td>\n",
       "      <td>00:00:21.14</td>\n",
       "      <td>943</td>\n",
       "      <td>1268</td>\n",
       "      <td>place</td>\n",
       "      <td>1</td>\n",
       "    </tr>\n",
       "    <tr>\n",
       "      <th>...</th>\n",
       "      <td>...</td>\n",
       "      <td>...</td>\n",
       "      <td>...</td>\n",
       "      <td>...</td>\n",
       "      <td>...</td>\n",
       "      <td>...</td>\n",
       "      <td>...</td>\n",
       "      <td>...</td>\n",
       "      <td>...</td>\n",
       "      <td>...</td>\n",
       "    </tr>\n",
       "    <tr>\n",
       "      <th>1538</th>\n",
       "      <td>15576</td>\n",
       "      <td>P08</td>\n",
       "      <td>P08_28</td>\n",
       "      <td>take bowl</td>\n",
       "      <td>00:00:21.40</td>\n",
       "      <td>00:00:22.79</td>\n",
       "      <td>1284</td>\n",
       "      <td>1367</td>\n",
       "      <td>take</td>\n",
       "      <td>0</td>\n",
       "    </tr>\n",
       "    <tr>\n",
       "      <th>1539</th>\n",
       "      <td>15577</td>\n",
       "      <td>P08</td>\n",
       "      <td>P08_28</td>\n",
       "      <td>open fridge</td>\n",
       "      <td>00:00:22.08</td>\n",
       "      <td>00:00:23.69</td>\n",
       "      <td>1324</td>\n",
       "      <td>1421</td>\n",
       "      <td>open</td>\n",
       "      <td>2</td>\n",
       "    </tr>\n",
       "    <tr>\n",
       "      <th>1540</th>\n",
       "      <td>15578</td>\n",
       "      <td>P08</td>\n",
       "      <td>P08_28</td>\n",
       "      <td>place bowl</td>\n",
       "      <td>00:00:23.04</td>\n",
       "      <td>00:00:25.13</td>\n",
       "      <td>1382</td>\n",
       "      <td>1507</td>\n",
       "      <td>place</td>\n",
       "      <td>1</td>\n",
       "    </tr>\n",
       "    <tr>\n",
       "      <th>1541</th>\n",
       "      <td>15579</td>\n",
       "      <td>P08</td>\n",
       "      <td>P08_28</td>\n",
       "      <td>close fridge</td>\n",
       "      <td>00:00:24.67</td>\n",
       "      <td>00:00:26.17</td>\n",
       "      <td>1480</td>\n",
       "      <td>1570</td>\n",
       "      <td>close</td>\n",
       "      <td>3</td>\n",
       "    </tr>\n",
       "    <tr>\n",
       "      <th>1542</th>\n",
       "      <td>15581</td>\n",
       "      <td>P08</td>\n",
       "      <td>P08_28</td>\n",
       "      <td>wipe hands</td>\n",
       "      <td>00:00:28.66</td>\n",
       "      <td>00:00:31.55</td>\n",
       "      <td>1719</td>\n",
       "      <td>1893</td>\n",
       "      <td>wipe</td>\n",
       "      <td>4</td>\n",
       "    </tr>\n",
       "  </tbody>\n",
       "</table>\n",
       "<p>1543 rows × 10 columns</p>\n",
       "</div>"
      ],
      "text/plain": [
       "        uid participant_id video_id     narration start_timestamp  \\\n",
       "0     12915            P08   P08_01   open fridge     00:00:04.09   \n",
       "1     12916            P08   P08_01      get milk     00:00:05.94   \n",
       "2     12917            P08   P08_01  close fridge     00:00:07.29   \n",
       "3     12918            P08   P08_01      get moka     00:00:10.64   \n",
       "4     12919            P08   P08_01   place water     00:00:15.72   \n",
       "...     ...            ...      ...           ...             ...   \n",
       "1538  15576            P08   P08_28     take bowl     00:00:21.40   \n",
       "1539  15577            P08   P08_28   open fridge     00:00:22.08   \n",
       "1540  15578            P08   P08_28    place bowl     00:00:23.04   \n",
       "1541  15579            P08   P08_28  close fridge     00:00:24.67   \n",
       "1542  15581            P08   P08_28    wipe hands     00:00:28.66   \n",
       "\n",
       "     stop_timestamp  start_frame  stop_frame   verb  verb_class  \n",
       "0       00:00:05.84          245         350   open           2  \n",
       "1       00:00:07.23          356         433    get           0  \n",
       "2       00:00:08.95          437         537  close           3  \n",
       "3       00:00:13.50          638         810    get           0  \n",
       "4       00:00:21.14          943        1268  place           1  \n",
       "...             ...          ...         ...    ...         ...  \n",
       "1538    00:00:22.79         1284        1367   take           0  \n",
       "1539    00:00:23.69         1324        1421   open           2  \n",
       "1540    00:00:25.13         1382        1507  place           1  \n",
       "1541    00:00:26.17         1480        1570  close           3  \n",
       "1542    00:00:31.55         1719        1893   wipe           4  \n",
       "\n",
       "[1543 rows x 10 columns]"
      ]
     },
     "execution_count": 5,
     "metadata": {},
     "output_type": "execute_result"
    }
   ],
   "source": [
    "pickle_example"
   ]
  },
  {
   "cell_type": "code",
   "execution_count": null,
   "metadata": {},
   "outputs": [
    {
     "data": {
      "text/plain": [
       "{0, 1, 2, 3, 4, 5, 6, 7}"
      ]
     },
     "execution_count": 18,
     "metadata": {},
     "output_type": "execute_result"
    }
   ],
   "source": [
    "set(pickle_example[\"verb_class\"])"
   ]
  },
  {
   "cell_type": "code",
   "execution_count": null,
   "metadata": {},
   "outputs": [
    {
     "data": {
      "text/plain": [
       "25"
      ]
     },
     "execution_count": 14,
     "metadata": {},
     "output_type": "execute_result"
    }
   ],
   "source": [
    "len(set(pickle_example[\"verb\"]))"
   ]
  },
  {
   "cell_type": "code",
   "execution_count": null,
   "metadata": {},
   "outputs": [
    {
     "data": {
      "text/plain": [
       "Index(['uid', 'participant_id', 'video_id', 'narration', 'start_timestamp',\n",
       "       'stop_timestamp', 'start_frame', 'stop_frame', 'verb', 'verb_class'],\n",
       "      dtype='object')"
      ]
     },
     "execution_count": 6,
     "metadata": {},
     "output_type": "execute_result"
    }
   ],
   "source": [
    "pickle_example.columns"
   ]
  },
  {
   "cell_type": "code",
   "execution_count": null,
   "metadata": {},
   "outputs": [
    {
     "name": "stdout",
     "output_type": "stream",
     "text": [
      "0\n",
      "uid                          0\n",
      "participant_id             P01\n",
      "video_id                P01_01\n",
      "narration            open door\n",
      "start_timestamp    00:00:00.14\n",
      "stop_timestamp     00:00:03.37\n",
      "start_frame                  8\n",
      "stop_frame                 202\n",
      "verb                      open\n",
      "verb_class                   2\n",
      "Name: 0, dtype: object \n",
      "\n",
      "1\n",
      "uid                          2\n",
      "participant_id             P01\n",
      "video_id                P01_01\n",
      "narration           close door\n",
      "start_timestamp    00:00:06.98\n",
      "stop_timestamp     00:00:09.49\n",
      "start_frame                418\n",
      "stop_frame                 569\n",
      "verb                     close\n",
      "verb_class                   3\n",
      "Name: 1, dtype: object \n",
      "\n"
     ]
    }
   ],
   "source": [
    "i = 0\n",
    "for tup in pickle_example.iterrows():\n",
    "    print(tup[0])\n",
    "    print(tup[1],\"\\n\")\n",
    "    if i == 1: break \n",
    "    i+=1"
   ]
  },
  {
   "cell_type": "code",
   "execution_count": null,
   "metadata": {},
   "outputs": [
    {
     "data": {
      "text/plain": [
       "{'P01_01',\n",
       " 'P01_02',\n",
       " 'P01_03',\n",
       " 'P01_04',\n",
       " 'P01_05',\n",
       " 'P01_06',\n",
       " 'P01_07',\n",
       " 'P01_08',\n",
       " 'P01_09',\n",
       " 'P01_10',\n",
       " 'P01_16',\n",
       " 'P01_17',\n",
       " 'P01_18',\n",
       " 'P01_19'}"
      ]
     },
     "execution_count": 14,
     "metadata": {},
     "output_type": "execute_result"
    }
   ],
   "source": [
    "set(pickle_example[\"video_id\"])"
   ]
  },
  {
   "cell_type": "code",
   "execution_count": null,
   "metadata": {},
   "outputs": [
    {
     "data": {
      "text/plain": [
       "(1543, 22)"
      ]
     },
     "execution_count": 7,
     "metadata": {},
     "output_type": "execute_result"
    }
   ],
   "source": [
    "len(pickle_example[\"video_id\"]), len(set(pickle_example[\"video_id\"]))"
   ]
  },
  {
   "cell_type": "code",
   "execution_count": null,
   "metadata": {},
   "outputs": [
    {
     "data": {
      "text/plain": [
       "'get'"
      ]
     },
     "execution_count": 8,
     "metadata": {},
     "output_type": "execute_result"
    }
   ],
   "source": [
    "pickle_example[\"verb\"][3]"
   ]
  },
  {
   "cell_type": "code",
   "execution_count": null,
   "metadata": {},
   "outputs": [
    {
     "data": {
      "text/plain": [
       "'get moka'"
      ]
     },
     "execution_count": 9,
     "metadata": {},
     "output_type": "execute_result"
    }
   ],
   "source": [
    "pickle_example[\"narration\"][3]"
   ]
  },
  {
   "cell_type": "code",
   "execution_count": null,
   "metadata": {},
   "outputs": [
    {
     "ename": "ModuleNotFoundError",
     "evalue": "No module named 'omegaconf'",
     "output_type": "error",
     "traceback": [
      "\u001b[1;31m---------------------------------------------------------------------------\u001b[0m",
      "\u001b[1;31mModuleNotFoundError\u001b[0m                       Traceback (most recent call last)",
      "Cell \u001b[1;32mIn[10], line 1\u001b[0m\n\u001b[1;32m----> 1\u001b[0m \u001b[39mfrom\u001b[39;00m \u001b[39momegaconf\u001b[39;00m \u001b[39mimport\u001b[39;00m OmegaConf\n",
      "\u001b[1;31mModuleNotFoundError\u001b[0m: No module named 'omegaconf'"
     ]
    }
   ],
   "source": [
    "from omegaconf import OmegaConf"
   ]
  },
  {
   "cell_type": "code",
   "execution_count": null,
   "metadata": {},
   "outputs": [],
   "source": [
    "yaml_configs = OmegaConf.load(\"configs/default.yaml\")"
   ]
  },
  {
   "cell_type": "code",
   "execution_count": null,
   "metadata": {},
   "outputs": [
    {
     "data": {
      "text/plain": [
       "{'action': '???', 'name': '???', 'modality': ['RGB'], 'total_batch': 128, 'batch_size': 32, 'gpus': None, 'wandb_name': None, 'resume_from': None, 'logname': None, 'models_dir': None, 'train': {'num_iter': 5000, 'lr_steps': 3000, 'eval_freq': 50, 'num_clips': 1, 'dense_sampling': {'RGB': True}, 'num_frames_per_clip': {'RGB': 16}}, 'test': {'num_clips': 5, 'dense_sampling': {'RGB': True}, 'num_frames_per_clip': {'RGB': 16}}, 'dataset': {'annotations_path': 'train_val', 'shift': '???', 'workers': 4, 'stride': 2, 'resolution': 224, 'RGB': {'data_path': '???', 'tmpl': 'img_{:010d}.jpg', 'features_name': 'test_feat_kinetics'}, 'Event': {'rgb4e': 6}}, 'models': {'RGB': {'model': 'Classifier', 'normalize': False, 'kwargs': {}, 'lr_steps': 3000, 'lr': 0.01, 'sgd_momentum': 0.9, 'weight_decay': 1e-07}}}"
      ]
     },
     "execution_count": 6,
     "metadata": {},
     "output_type": "execute_result"
    }
   ],
   "source": [
    "yaml_configs"
   ]
  },
  {
   "cell_type": "code",
   "execution_count": null,
   "metadata": {},
   "outputs": [
    {
     "data": {
      "text/plain": [
       "(array([ 0,  1,  2,  3,  4,  5,  6,  7,  8,  9, 10, 11, 12, 13, 14, 15, 16,\n",
       "        17, 18, 19], dtype=int16),\n",
       " True)"
      ]
     },
     "execution_count": 2,
     "metadata": {},
     "output_type": "execute_result"
    }
   ],
   "source": [
    "import numpy as np\n",
    "num_clip = 4\n",
    "num_frames = 20\n",
    "frames_per_clip = 5\n",
    "intervals = np.int16(np.linspace(0, num_frames, num_clip+1))\n",
    "frames = np.array([], dtype=np.int16)\n",
    "for i, first in enumerate(intervals[0:-1]):\n",
    "    last = intervals[i+1]\n",
    "    frames = np.hstack([frames,np.int16(np.linspace(first, last-1, frames_per_clip))])\n",
    "frames, len(frames) == frames_per_clip*num_clip\n"
   ]
  },
  {
   "cell_type": "code",
   "execution_count": null,
   "metadata": {},
   "outputs": [],
   "source": [
    "import numpy as np\n",
    "import random as rd\n",
    "num_clip = 4\n",
    "num_frames = 40\n",
    "frames_per_part = (frames_per_clip-1)//2\n",
    "frames = np.array([],dtype=np.int16)\n",
    "\n",
    "video = np.arange(0,num_frames+1)\n",
    "\n",
    "stride = 3\n",
    "centrals = np.random.choice(video[frames_per_part*stride+1:-frames_per_part*stride-1], num_clip,replace= False)\n",
    "centrals = np.sort(centrals)\n",
    "for i in centrals:\n",
    "   frames = np.append(frames,np.concatenate([video[i-stride*frames_per_part:i:stride],[i],video[i+stride:i+stride+stride*frames_per_part:stride]]))\n"
   ]
  },
  {
   "cell_type": "code",
   "execution_count": null,
   "metadata": {},
   "outputs": [
    {
     "data": {
      "text/plain": [
       "array([ 7, 10, 13, 16, 19, 12, 15, 18, 21, 24, 15, 18, 21, 24, 27, 22, 25,\n",
       "       28, 31, 34])"
      ]
     },
     "execution_count": 8,
     "metadata": {},
     "output_type": "execute_result"
    }
   ],
   "source": [
    "frames\n"
   ]
  },
  {
   "cell_type": "code",
   "execution_count": 4,
   "metadata": {},
   "outputs": [
    {
     "data": {
      "text/plain": [
       "Classifier()"
      ]
     },
     "execution_count": 4,
     "metadata": {},
     "output_type": "execute_result"
    }
   ],
   "source": [
    "import models as model_list\n",
    "\n",
    "getattr(model_list, \"Classifier\")(1024, 8)"
   ]
  },
  {
   "attachments": {},
   "cell_type": "markdown",
   "metadata": {},
   "source": [
    "# actionNet"
   ]
  },
  {
   "attachments": {},
   "cell_type": "markdown",
   "metadata": {},
   "source": [
    "### labels and timestamps"
   ]
  },
  {
   "cell_type": "code",
   "execution_count": 1,
   "metadata": {},
   "outputs": [
    {
     "name": "stdout",
     "output_type": "stream",
     "text": [
      "Activity Labels:\n",
      "['Get/replace items from refrigerator/cabinets/drawers', 'Peel a cucumber', 'Peel a cucumber', 'Peel a cucumber', 'Clear cutting board', 'Slice a cucumber', 'Slice a cucumber', 'Slice a cucumber', 'Clear cutting board', 'Get/replace items from refrigerator/cabinets/drawers', 'Peel a potato', 'Peel a potato', 'Peel a potato', 'Clear cutting board', 'Slice a potato', 'Slice a potato', 'Slice a potato', 'Clear cutting board', 'Get/replace items from refrigerator/cabinets/drawers', 'Slice bread', 'Slice bread', 'Slice bread', 'Clear cutting board', 'Get/replace items from refrigerator/cabinets/drawers', 'Spread almond butter on a bread slice', 'Spread almond butter on a bread slice', 'Spread almond butter on a bread slice', 'Spread jelly on a bread slice', 'Spread jelly on a bread slice', 'Spread jelly on a bread slice', 'Clear cutting board', 'Open/close a jar of almond butter', 'Open/close a jar of almond butter', 'Open/close a jar of almond butter', 'Get/replace items from refrigerator/cabinets/drawers', 'Pour water from a pitcher into a glass', 'Pour water from a pitcher into a glass', 'Pour water from a pitcher into a glass', 'Pour water from a pitcher into a glass', 'Pour water from a pitcher into a glass', 'Get/replace items from refrigerator/cabinets/drawers', 'Clean a plate with a sponge', 'Clean a plate with a sponge', 'Clean a plate with a sponge', 'Clean a plate with a towel', 'Clean a plate with a towel', 'Clean a plate with a towel', 'Clean a pan with a sponge', 'Clean a pan with a sponge', 'Clean a pan with a sponge', 'Clean a pan with a towel', 'Clean a pan with a towel', 'Clean a pan with a towel', 'Get/replace items from refrigerator/cabinets/drawers', 'Get items from cabinets: 3 each large/small plates, bowls, mugs, glasses, sets of utensils', 'Set table: 3 each large/small plates, bowls, mugs, glasses, sets of utensils', 'Stack on table: 3 each large/small plates, bowls', 'Load dishwasher: 3 each large/small plates, bowls, mugs, glasses, sets of utensils', 'Unload dishwasher: 3 each large/small plates, bowls, mugs, glasses, sets of utensils']\n",
      "\n",
      "Activity Start Times\n",
      "[1655239974.4190562, 1655240064.7424195, 1655240130.5155582, 1655240178.033217, 1655240238.6261187, 1655240291.1040342, 1655240357.3761659, 1655240415.361072, 1655240472.547567, 1655240527.616489, 1655240612.3951712, 1655240692.130042, 1655240737.6749737, 1655240810.9788678, 1655240839.6758137, 1655240871.636758, 1655240901.69771, 1655240931.3116324, 1655240963.7986012, 1655241036.5794837, 1655241062.3204412, 1655241083.028409, 1655241111.4973614, 1655241157.9392865, 1655241238.963155, 1655241257.470128, 1655241276.7890766, 1655241314.8120139, 1655241330.9300375, 1655241347.6220107, 1655241374.993973, 1655241401.9299293, 1655241417.675906, 1655241428.1692567, 1655241449.7782762, 1655241531.7860587, 1655241537.812427, 1655241546.3694067, 1655241552.8744028, 1655241562.8453865, 1655241629.185808, 1655241723.2336562, 1655241728.2436485, 1655241738.2096314, 1655241749.113619, 1655241756.2926059, 1655241765.9576406, 1655241779.2806182, 1655241787.7926044, 1655241794.0065951, 1655241807.3150826, 1655241814.2160707, 1655241822.267057, 1655241837.5940337, 1655241895.1439884, 1655242026.4012787, 1655242143.2680888, 1655242198.730242, 1655242320.9783256]\n",
      "\n",
      "Activity End Times\n",
      "[1655240050.672438, 1655240113.000587, 1655240167.0672355, 1655240224.2411423, 1655240280.5300515, 1655240339.637956, 1655240403.3490918, 1655240453.9095972, 1655240517.533495, 1655240597.7961988, 1655240683.7820547, 1655240733.019976, 1655240797.6148765, 1655240831.8038332, 1655240869.1197622, 1655240899.847712, 1655240926.072642, 1655240951.0856042, 1655241022.3225067, 1655241048.2354655, 1655241077.1414182, 1655241104.017378, 1655241138.972317, 1655241223.7351806, 1655241254.0251312, 1655241274.8121004, 1655241291.7510514, 1655241328.480993, 1655241345.6170127, 1655241362.9779847, 1655241392.1669452, 1655241413.856917, 1655241426.1302578, 1655241443.9012303, 1655241523.121072, 1655241535.783052, 1655241542.7114139, 1655241550.1124, 1655241558.957393, 1655241571.0923736, 1655241710.6156802, 1655241726.3526504, 1655241735.976636, 1655241742.8626244, 1655241751.85361, 1655241763.8915908, 1655241772.5776293, 1655241785.4676082, 1655241791.9395986, 1655241799.1035857, 1655241811.8460743, 1655241820.190061, 1655241828.6530464, 1655241869.2680285, 1655242006.7733104, 1655242116.5211327, 1655242189.1492567, 1655242307.3723474, 1655242499.9007058]\n"
     ]
    }
   ],
   "source": [
    "import h5py, numpy as np\n",
    "\n",
    "path = \"2022-06-14_16-38-43_streamLog_actionNet-wearables_S04.hdf5\"\n",
    "h5_file = h5py.File(path)\n",
    "\n",
    "device_name = 'experiment-activities'\n",
    "stream_name = 'activities'\n",
    "\n",
    "# Get the timestamped label data.\n",
    "# As described in the HDF5 metadata, each row has entries for ['Activity', 'Start/Stop', 'Valid', 'Notes'].\n",
    "activity_datas = h5_file[device_name][stream_name]['data']\n",
    "activity_times_s = h5_file[device_name][stream_name]['time_s']\n",
    "activity_times_s = np.squeeze(np.array(activity_times_s))  # squeeze (optional) converts from a list of single-element lists to a 1D list\n",
    "# Convert to strings for convenience.\n",
    "activity_datas = [[x.decode('utf-8') for x in datas] for datas in activity_datas]\n",
    "\n",
    "# Combine start/stop rows to single activity entries with start/stop times.\n",
    "#   Each row is either the start or stop of the label.\n",
    "#   The notes and ratings fields are the same for the start/stop rows of the label, so only need to check one.\n",
    "exclude_bad_labels = True # some activities may have been marked as 'Bad' or 'Maybe' by the experimenter; submitted notes with the activity typically give more information\n",
    "activities_labels = []\n",
    "activities_start_times_s = []\n",
    "activities_end_times_s = []\n",
    "activities_ratings = []\n",
    "activities_notes = []\n",
    "for (row_index, time_s) in enumerate(activity_times_s):\n",
    "  label    = activity_datas[row_index][0]\n",
    "  is_start = activity_datas[row_index][1] == 'Start'\n",
    "  is_stop  = activity_datas[row_index][1] == 'Stop'\n",
    "  rating   = activity_datas[row_index][2]\n",
    "  notes    = activity_datas[row_index][3]\n",
    "  if exclude_bad_labels and rating in ['Bad', 'Maybe']:\n",
    "    continue\n",
    "  # Record the start of a new activity.\n",
    "  if is_start:\n",
    "    activities_labels.append(label)\n",
    "    activities_start_times_s.append(time_s)\n",
    "    activities_ratings.append(rating)\n",
    "    activities_notes.append(notes)\n",
    "  # Record the end of the previous activity.\n",
    "  if is_stop:\n",
    "    activities_end_times_s.append(time_s)\n",
    "\n",
    "print('Activity Labels:')\n",
    "print(activities_labels)\n",
    "print()\n",
    "print('Activity Start Times')\n",
    "print(activities_start_times_s)\n",
    "print()\n",
    "print('Activity End Times')\n",
    "print(activities_end_times_s)\n"
   ]
  },
  {
   "cell_type": "code",
   "execution_count": 2,
   "metadata": {},
   "outputs": [],
   "source": [
    "CALIBRATION_SHIFT = 14*60 + 21"
   ]
  },
  {
   "cell_type": "code",
   "execution_count": 41,
   "metadata": {},
   "outputs": [
    {
     "data": {
      "text/plain": [
       "42.09136083333333"
      ]
     },
     "execution_count": 41,
     "metadata": {},
     "output_type": "execute_result"
    }
   ],
   "source": [
    "from datetime import datetime\n",
    "\n",
    "(datetime.utcfromtimestamp(max(activities_end_times_s)) - datetime.utcfromtimestamp(min(activities_start_times_s))).total_seconds()/60"
   ]
  },
  {
   "cell_type": "code",
   "execution_count": 44,
   "metadata": {},
   "outputs": [
    {
     "data": {
      "text/plain": [
       "datetime.datetime(2022, 6, 14, 20, 52, 54, 419056)"
      ]
     },
     "execution_count": 44,
     "metadata": {},
     "output_type": "execute_result"
    }
   ],
   "source": [
    "datetime.utcfromtimestamp(min(activities_start_times_s))"
   ]
  },
  {
   "cell_type": "code",
   "execution_count": 3,
   "metadata": {},
   "outputs": [],
   "source": [
    "labels_dict = {}\n",
    "i=0\n",
    "for label in set(activities_labels):\n",
    "    labels_dict[label] = i\n",
    "    i+=1"
   ]
  },
  {
   "cell_type": "code",
   "execution_count": 10,
   "metadata": {},
   "outputs": [],
   "source": [
    "VIDEO_FRAMERATE = 1"
   ]
  },
  {
   "cell_type": "code",
   "execution_count": 11,
   "metadata": {},
   "outputs": [],
   "source": [
    "#TODO decide if we want to merge the same actions into one\n",
    "from datetime import datetime\n",
    "import pandas as pd\n",
    "#\"start_timestamp\", \"stop_timestamp\"\n",
    "records = []\n",
    "shift = datetime.utcfromtimestamp(min(activities_start_times_s))\n",
    "for i, label in enumerate(activities_labels) :\n",
    "    #activities_end_times_s\n",
    "    #start_timestamp = datetime.timestamp(datetime.utcfromtimestamp(activities_start_times_s[i]) - shift)\n",
    "    #stop_timestamp = datetime.timestamp(datetime.utcfromtimestamp(activities_end_times_s[i]) - shift)\n",
    "    start_frame = int((datetime.utcfromtimestamp(activities_start_times_s[i]) - shift).total_seconds() * VIDEO_FRAMERATE)\n",
    "    stop_frame = int((datetime.utcfromtimestamp(activities_end_times_s[i]) - shift).total_seconds() * VIDEO_FRAMERATE)\n",
    "    narration = label\n",
    "    verb_class = labels_dict[label]\n",
    "    records.append([start_frame,stop_frame, narration, verb_class])\n",
    "\n",
    "records_pd = pd.DataFrame(records,columns=[\"start_frame\", \"stop_frame\", \"narration\", \"verb_class\"])"
   ]
  },
  {
   "cell_type": "code",
   "execution_count": 12,
   "metadata": {},
   "outputs": [
    {
     "data": {
      "text/html": [
       "<div>\n",
       "<style scoped>\n",
       "    .dataframe tbody tr th:only-of-type {\n",
       "        vertical-align: middle;\n",
       "    }\n",
       "\n",
       "    .dataframe tbody tr th {\n",
       "        vertical-align: top;\n",
       "    }\n",
       "\n",
       "    .dataframe thead th {\n",
       "        text-align: right;\n",
       "    }\n",
       "</style>\n",
       "<table border=\"1\" class=\"dataframe\">\n",
       "  <thead>\n",
       "    <tr style=\"text-align: right;\">\n",
       "      <th></th>\n",
       "      <th>start_frame</th>\n",
       "      <th>stop_frame</th>\n",
       "      <th>narration</th>\n",
       "      <th>verb_class</th>\n",
       "    </tr>\n",
       "  </thead>\n",
       "  <tbody>\n",
       "    <tr>\n",
       "      <th>0</th>\n",
       "      <td>0</td>\n",
       "      <td>76</td>\n",
       "      <td>Get/replace items from refrigerator/cabinets/d...</td>\n",
       "      <td>6</td>\n",
       "    </tr>\n",
       "    <tr>\n",
       "      <th>1</th>\n",
       "      <td>90</td>\n",
       "      <td>138</td>\n",
       "      <td>Peel a cucumber</td>\n",
       "      <td>18</td>\n",
       "    </tr>\n",
       "    <tr>\n",
       "      <th>2</th>\n",
       "      <td>156</td>\n",
       "      <td>192</td>\n",
       "      <td>Peel a cucumber</td>\n",
       "      <td>18</td>\n",
       "    </tr>\n",
       "    <tr>\n",
       "      <th>3</th>\n",
       "      <td>203</td>\n",
       "      <td>249</td>\n",
       "      <td>Peel a cucumber</td>\n",
       "      <td>18</td>\n",
       "    </tr>\n",
       "    <tr>\n",
       "      <th>4</th>\n",
       "      <td>264</td>\n",
       "      <td>306</td>\n",
       "      <td>Clear cutting board</td>\n",
       "      <td>12</td>\n",
       "    </tr>\n",
       "    <tr>\n",
       "      <th>5</th>\n",
       "      <td>316</td>\n",
       "      <td>365</td>\n",
       "      <td>Slice a cucumber</td>\n",
       "      <td>3</td>\n",
       "    </tr>\n",
       "    <tr>\n",
       "      <th>6</th>\n",
       "      <td>382</td>\n",
       "      <td>428</td>\n",
       "      <td>Slice a cucumber</td>\n",
       "      <td>3</td>\n",
       "    </tr>\n",
       "    <tr>\n",
       "      <th>7</th>\n",
       "      <td>440</td>\n",
       "      <td>479</td>\n",
       "      <td>Slice a cucumber</td>\n",
       "      <td>3</td>\n",
       "    </tr>\n",
       "    <tr>\n",
       "      <th>8</th>\n",
       "      <td>498</td>\n",
       "      <td>543</td>\n",
       "      <td>Clear cutting board</td>\n",
       "      <td>12</td>\n",
       "    </tr>\n",
       "    <tr>\n",
       "      <th>9</th>\n",
       "      <td>553</td>\n",
       "      <td>623</td>\n",
       "      <td>Get/replace items from refrigerator/cabinets/d...</td>\n",
       "      <td>6</td>\n",
       "    </tr>\n",
       "    <tr>\n",
       "      <th>10</th>\n",
       "      <td>637</td>\n",
       "      <td>709</td>\n",
       "      <td>Peel a potato</td>\n",
       "      <td>8</td>\n",
       "    </tr>\n",
       "    <tr>\n",
       "      <th>11</th>\n",
       "      <td>717</td>\n",
       "      <td>758</td>\n",
       "      <td>Peel a potato</td>\n",
       "      <td>8</td>\n",
       "    </tr>\n",
       "    <tr>\n",
       "      <th>12</th>\n",
       "      <td>763</td>\n",
       "      <td>823</td>\n",
       "      <td>Peel a potato</td>\n",
       "      <td>8</td>\n",
       "    </tr>\n",
       "    <tr>\n",
       "      <th>13</th>\n",
       "      <td>836</td>\n",
       "      <td>857</td>\n",
       "      <td>Clear cutting board</td>\n",
       "      <td>12</td>\n",
       "    </tr>\n",
       "    <tr>\n",
       "      <th>14</th>\n",
       "      <td>865</td>\n",
       "      <td>894</td>\n",
       "      <td>Slice a potato</td>\n",
       "      <td>4</td>\n",
       "    </tr>\n",
       "    <tr>\n",
       "      <th>15</th>\n",
       "      <td>897</td>\n",
       "      <td>925</td>\n",
       "      <td>Slice a potato</td>\n",
       "      <td>4</td>\n",
       "    </tr>\n",
       "    <tr>\n",
       "      <th>16</th>\n",
       "      <td>927</td>\n",
       "      <td>951</td>\n",
       "      <td>Slice a potato</td>\n",
       "      <td>4</td>\n",
       "    </tr>\n",
       "    <tr>\n",
       "      <th>17</th>\n",
       "      <td>956</td>\n",
       "      <td>976</td>\n",
       "      <td>Clear cutting board</td>\n",
       "      <td>12</td>\n",
       "    </tr>\n",
       "    <tr>\n",
       "      <th>18</th>\n",
       "      <td>989</td>\n",
       "      <td>1047</td>\n",
       "      <td>Get/replace items from refrigerator/cabinets/d...</td>\n",
       "      <td>6</td>\n",
       "    </tr>\n",
       "    <tr>\n",
       "      <th>19</th>\n",
       "      <td>1062</td>\n",
       "      <td>1073</td>\n",
       "      <td>Slice bread</td>\n",
       "      <td>19</td>\n",
       "    </tr>\n",
       "    <tr>\n",
       "      <th>20</th>\n",
       "      <td>1087</td>\n",
       "      <td>1102</td>\n",
       "      <td>Slice bread</td>\n",
       "      <td>19</td>\n",
       "    </tr>\n",
       "    <tr>\n",
       "      <th>21</th>\n",
       "      <td>1108</td>\n",
       "      <td>1129</td>\n",
       "      <td>Slice bread</td>\n",
       "      <td>19</td>\n",
       "    </tr>\n",
       "    <tr>\n",
       "      <th>22</th>\n",
       "      <td>1137</td>\n",
       "      <td>1164</td>\n",
       "      <td>Clear cutting board</td>\n",
       "      <td>12</td>\n",
       "    </tr>\n",
       "    <tr>\n",
       "      <th>23</th>\n",
       "      <td>1183</td>\n",
       "      <td>1249</td>\n",
       "      <td>Get/replace items from refrigerator/cabinets/d...</td>\n",
       "      <td>6</td>\n",
       "    </tr>\n",
       "    <tr>\n",
       "      <th>24</th>\n",
       "      <td>1264</td>\n",
       "      <td>1279</td>\n",
       "      <td>Spread almond butter on a bread slice</td>\n",
       "      <td>17</td>\n",
       "    </tr>\n",
       "    <tr>\n",
       "      <th>25</th>\n",
       "      <td>1283</td>\n",
       "      <td>1300</td>\n",
       "      <td>Spread almond butter on a bread slice</td>\n",
       "      <td>17</td>\n",
       "    </tr>\n",
       "    <tr>\n",
       "      <th>26</th>\n",
       "      <td>1302</td>\n",
       "      <td>1317</td>\n",
       "      <td>Spread almond butter on a bread slice</td>\n",
       "      <td>17</td>\n",
       "    </tr>\n",
       "    <tr>\n",
       "      <th>27</th>\n",
       "      <td>1340</td>\n",
       "      <td>1354</td>\n",
       "      <td>Spread jelly on a bread slice</td>\n",
       "      <td>13</td>\n",
       "    </tr>\n",
       "    <tr>\n",
       "      <th>28</th>\n",
       "      <td>1356</td>\n",
       "      <td>1371</td>\n",
       "      <td>Spread jelly on a bread slice</td>\n",
       "      <td>13</td>\n",
       "    </tr>\n",
       "    <tr>\n",
       "      <th>29</th>\n",
       "      <td>1373</td>\n",
       "      <td>1388</td>\n",
       "      <td>Spread jelly on a bread slice</td>\n",
       "      <td>13</td>\n",
       "    </tr>\n",
       "    <tr>\n",
       "      <th>30</th>\n",
       "      <td>1400</td>\n",
       "      <td>1417</td>\n",
       "      <td>Clear cutting board</td>\n",
       "      <td>12</td>\n",
       "    </tr>\n",
       "    <tr>\n",
       "      <th>31</th>\n",
       "      <td>1427</td>\n",
       "      <td>1439</td>\n",
       "      <td>Open/close a jar of almond butter</td>\n",
       "      <td>1</td>\n",
       "    </tr>\n",
       "    <tr>\n",
       "      <th>32</th>\n",
       "      <td>1443</td>\n",
       "      <td>1451</td>\n",
       "      <td>Open/close a jar of almond butter</td>\n",
       "      <td>1</td>\n",
       "    </tr>\n",
       "    <tr>\n",
       "      <th>33</th>\n",
       "      <td>1453</td>\n",
       "      <td>1469</td>\n",
       "      <td>Open/close a jar of almond butter</td>\n",
       "      <td>1</td>\n",
       "    </tr>\n",
       "    <tr>\n",
       "      <th>34</th>\n",
       "      <td>1475</td>\n",
       "      <td>1548</td>\n",
       "      <td>Get/replace items from refrigerator/cabinets/d...</td>\n",
       "      <td>6</td>\n",
       "    </tr>\n",
       "    <tr>\n",
       "      <th>35</th>\n",
       "      <td>1557</td>\n",
       "      <td>1561</td>\n",
       "      <td>Pour water from a pitcher into a glass</td>\n",
       "      <td>5</td>\n",
       "    </tr>\n",
       "    <tr>\n",
       "      <th>36</th>\n",
       "      <td>1563</td>\n",
       "      <td>1568</td>\n",
       "      <td>Pour water from a pitcher into a glass</td>\n",
       "      <td>5</td>\n",
       "    </tr>\n",
       "    <tr>\n",
       "      <th>37</th>\n",
       "      <td>1571</td>\n",
       "      <td>1575</td>\n",
       "      <td>Pour water from a pitcher into a glass</td>\n",
       "      <td>5</td>\n",
       "    </tr>\n",
       "    <tr>\n",
       "      <th>38</th>\n",
       "      <td>1578</td>\n",
       "      <td>1584</td>\n",
       "      <td>Pour water from a pitcher into a glass</td>\n",
       "      <td>5</td>\n",
       "    </tr>\n",
       "    <tr>\n",
       "      <th>39</th>\n",
       "      <td>1588</td>\n",
       "      <td>1596</td>\n",
       "      <td>Pour water from a pitcher into a glass</td>\n",
       "      <td>5</td>\n",
       "    </tr>\n",
       "    <tr>\n",
       "      <th>40</th>\n",
       "      <td>1654</td>\n",
       "      <td>1736</td>\n",
       "      <td>Get/replace items from refrigerator/cabinets/d...</td>\n",
       "      <td>6</td>\n",
       "    </tr>\n",
       "    <tr>\n",
       "      <th>41</th>\n",
       "      <td>1748</td>\n",
       "      <td>1751</td>\n",
       "      <td>Clean a plate with a sponge</td>\n",
       "      <td>7</td>\n",
       "    </tr>\n",
       "    <tr>\n",
       "      <th>42</th>\n",
       "      <td>1753</td>\n",
       "      <td>1761</td>\n",
       "      <td>Clean a plate with a sponge</td>\n",
       "      <td>7</td>\n",
       "    </tr>\n",
       "    <tr>\n",
       "      <th>43</th>\n",
       "      <td>1763</td>\n",
       "      <td>1768</td>\n",
       "      <td>Clean a plate with a sponge</td>\n",
       "      <td>7</td>\n",
       "    </tr>\n",
       "    <tr>\n",
       "      <th>44</th>\n",
       "      <td>1774</td>\n",
       "      <td>1777</td>\n",
       "      <td>Clean a plate with a towel</td>\n",
       "      <td>9</td>\n",
       "    </tr>\n",
       "    <tr>\n",
       "      <th>45</th>\n",
       "      <td>1781</td>\n",
       "      <td>1789</td>\n",
       "      <td>Clean a plate with a towel</td>\n",
       "      <td>9</td>\n",
       "    </tr>\n",
       "    <tr>\n",
       "      <th>46</th>\n",
       "      <td>1791</td>\n",
       "      <td>1798</td>\n",
       "      <td>Clean a plate with a towel</td>\n",
       "      <td>9</td>\n",
       "    </tr>\n",
       "    <tr>\n",
       "      <th>47</th>\n",
       "      <td>1804</td>\n",
       "      <td>1811</td>\n",
       "      <td>Clean a pan with a sponge</td>\n",
       "      <td>11</td>\n",
       "    </tr>\n",
       "    <tr>\n",
       "      <th>48</th>\n",
       "      <td>1813</td>\n",
       "      <td>1817</td>\n",
       "      <td>Clean a pan with a sponge</td>\n",
       "      <td>11</td>\n",
       "    </tr>\n",
       "    <tr>\n",
       "      <th>49</th>\n",
       "      <td>1819</td>\n",
       "      <td>1824</td>\n",
       "      <td>Clean a pan with a sponge</td>\n",
       "      <td>11</td>\n",
       "    </tr>\n",
       "    <tr>\n",
       "      <th>50</th>\n",
       "      <td>1832</td>\n",
       "      <td>1837</td>\n",
       "      <td>Clean a pan with a towel</td>\n",
       "      <td>15</td>\n",
       "    </tr>\n",
       "    <tr>\n",
       "      <th>51</th>\n",
       "      <td>1839</td>\n",
       "      <td>1845</td>\n",
       "      <td>Clean a pan with a towel</td>\n",
       "      <td>15</td>\n",
       "    </tr>\n",
       "    <tr>\n",
       "      <th>52</th>\n",
       "      <td>1847</td>\n",
       "      <td>1854</td>\n",
       "      <td>Clean a pan with a towel</td>\n",
       "      <td>15</td>\n",
       "    </tr>\n",
       "    <tr>\n",
       "      <th>53</th>\n",
       "      <td>1863</td>\n",
       "      <td>1894</td>\n",
       "      <td>Get/replace items from refrigerator/cabinets/d...</td>\n",
       "      <td>6</td>\n",
       "    </tr>\n",
       "    <tr>\n",
       "      <th>54</th>\n",
       "      <td>1920</td>\n",
       "      <td>2032</td>\n",
       "      <td>Get items from cabinets: 3 each large/small pl...</td>\n",
       "      <td>16</td>\n",
       "    </tr>\n",
       "    <tr>\n",
       "      <th>55</th>\n",
       "      <td>2051</td>\n",
       "      <td>2142</td>\n",
       "      <td>Set table: 3 each large/small plates, bowls, m...</td>\n",
       "      <td>14</td>\n",
       "    </tr>\n",
       "    <tr>\n",
       "      <th>56</th>\n",
       "      <td>2168</td>\n",
       "      <td>2214</td>\n",
       "      <td>Stack on table: 3 each large/small plates, bowls</td>\n",
       "      <td>10</td>\n",
       "    </tr>\n",
       "    <tr>\n",
       "      <th>57</th>\n",
       "      <td>2224</td>\n",
       "      <td>2332</td>\n",
       "      <td>Load dishwasher: 3 each large/small plates, bo...</td>\n",
       "      <td>0</td>\n",
       "    </tr>\n",
       "    <tr>\n",
       "      <th>58</th>\n",
       "      <td>2346</td>\n",
       "      <td>2525</td>\n",
       "      <td>Unload dishwasher: 3 each large/small plates, ...</td>\n",
       "      <td>2</td>\n",
       "    </tr>\n",
       "  </tbody>\n",
       "</table>\n",
       "</div>"
      ],
      "text/plain": [
       "    start_frame  stop_frame  \\\n",
       "0             0          76   \n",
       "1            90         138   \n",
       "2           156         192   \n",
       "3           203         249   \n",
       "4           264         306   \n",
       "5           316         365   \n",
       "6           382         428   \n",
       "7           440         479   \n",
       "8           498         543   \n",
       "9           553         623   \n",
       "10          637         709   \n",
       "11          717         758   \n",
       "12          763         823   \n",
       "13          836         857   \n",
       "14          865         894   \n",
       "15          897         925   \n",
       "16          927         951   \n",
       "17          956         976   \n",
       "18          989        1047   \n",
       "19         1062        1073   \n",
       "20         1087        1102   \n",
       "21         1108        1129   \n",
       "22         1137        1164   \n",
       "23         1183        1249   \n",
       "24         1264        1279   \n",
       "25         1283        1300   \n",
       "26         1302        1317   \n",
       "27         1340        1354   \n",
       "28         1356        1371   \n",
       "29         1373        1388   \n",
       "30         1400        1417   \n",
       "31         1427        1439   \n",
       "32         1443        1451   \n",
       "33         1453        1469   \n",
       "34         1475        1548   \n",
       "35         1557        1561   \n",
       "36         1563        1568   \n",
       "37         1571        1575   \n",
       "38         1578        1584   \n",
       "39         1588        1596   \n",
       "40         1654        1736   \n",
       "41         1748        1751   \n",
       "42         1753        1761   \n",
       "43         1763        1768   \n",
       "44         1774        1777   \n",
       "45         1781        1789   \n",
       "46         1791        1798   \n",
       "47         1804        1811   \n",
       "48         1813        1817   \n",
       "49         1819        1824   \n",
       "50         1832        1837   \n",
       "51         1839        1845   \n",
       "52         1847        1854   \n",
       "53         1863        1894   \n",
       "54         1920        2032   \n",
       "55         2051        2142   \n",
       "56         2168        2214   \n",
       "57         2224        2332   \n",
       "58         2346        2525   \n",
       "\n",
       "                                            narration  verb_class  \n",
       "0   Get/replace items from refrigerator/cabinets/d...           6  \n",
       "1                                     Peel a cucumber          18  \n",
       "2                                     Peel a cucumber          18  \n",
       "3                                     Peel a cucumber          18  \n",
       "4                                 Clear cutting board          12  \n",
       "5                                    Slice a cucumber           3  \n",
       "6                                    Slice a cucumber           3  \n",
       "7                                    Slice a cucumber           3  \n",
       "8                                 Clear cutting board          12  \n",
       "9   Get/replace items from refrigerator/cabinets/d...           6  \n",
       "10                                      Peel a potato           8  \n",
       "11                                      Peel a potato           8  \n",
       "12                                      Peel a potato           8  \n",
       "13                                Clear cutting board          12  \n",
       "14                                     Slice a potato           4  \n",
       "15                                     Slice a potato           4  \n",
       "16                                     Slice a potato           4  \n",
       "17                                Clear cutting board          12  \n",
       "18  Get/replace items from refrigerator/cabinets/d...           6  \n",
       "19                                        Slice bread          19  \n",
       "20                                        Slice bread          19  \n",
       "21                                        Slice bread          19  \n",
       "22                                Clear cutting board          12  \n",
       "23  Get/replace items from refrigerator/cabinets/d...           6  \n",
       "24              Spread almond butter on a bread slice          17  \n",
       "25              Spread almond butter on a bread slice          17  \n",
       "26              Spread almond butter on a bread slice          17  \n",
       "27                      Spread jelly on a bread slice          13  \n",
       "28                      Spread jelly on a bread slice          13  \n",
       "29                      Spread jelly on a bread slice          13  \n",
       "30                                Clear cutting board          12  \n",
       "31                  Open/close a jar of almond butter           1  \n",
       "32                  Open/close a jar of almond butter           1  \n",
       "33                  Open/close a jar of almond butter           1  \n",
       "34  Get/replace items from refrigerator/cabinets/d...           6  \n",
       "35             Pour water from a pitcher into a glass           5  \n",
       "36             Pour water from a pitcher into a glass           5  \n",
       "37             Pour water from a pitcher into a glass           5  \n",
       "38             Pour water from a pitcher into a glass           5  \n",
       "39             Pour water from a pitcher into a glass           5  \n",
       "40  Get/replace items from refrigerator/cabinets/d...           6  \n",
       "41                        Clean a plate with a sponge           7  \n",
       "42                        Clean a plate with a sponge           7  \n",
       "43                        Clean a plate with a sponge           7  \n",
       "44                         Clean a plate with a towel           9  \n",
       "45                         Clean a plate with a towel           9  \n",
       "46                         Clean a plate with a towel           9  \n",
       "47                          Clean a pan with a sponge          11  \n",
       "48                          Clean a pan with a sponge          11  \n",
       "49                          Clean a pan with a sponge          11  \n",
       "50                           Clean a pan with a towel          15  \n",
       "51                           Clean a pan with a towel          15  \n",
       "52                           Clean a pan with a towel          15  \n",
       "53  Get/replace items from refrigerator/cabinets/d...           6  \n",
       "54  Get items from cabinets: 3 each large/small pl...          16  \n",
       "55  Set table: 3 each large/small plates, bowls, m...          14  \n",
       "56   Stack on table: 3 each large/small plates, bowls          10  \n",
       "57  Load dishwasher: 3 each large/small plates, bo...           0  \n",
       "58  Unload dishwasher: 3 each large/small plates, ...           2  "
      ]
     },
     "execution_count": 12,
     "metadata": {},
     "output_type": "execute_result"
    }
   ],
   "source": [
    "records_pd"
   ]
  },
  {
   "cell_type": "code",
   "execution_count": 13,
   "metadata": {},
   "outputs": [
    {
     "data": {
      "text/plain": [
       "{'Clean a pan with a sponge',\n",
       " 'Clean a pan with a towel',\n",
       " 'Clean a plate with a sponge',\n",
       " 'Clean a plate with a towel',\n",
       " 'Clear cutting board',\n",
       " 'Get items from cabinets: 3 each large/small plates, bowls, mugs, glasses, sets of utensils',\n",
       " 'Get/replace items from refrigerator/cabinets/drawers',\n",
       " 'Load dishwasher: 3 each large/small plates, bowls, mugs, glasses, sets of utensils',\n",
       " 'Open/close a jar of almond butter',\n",
       " 'Peel a cucumber',\n",
       " 'Peel a potato',\n",
       " 'Pour water from a pitcher into a glass',\n",
       " 'Set table: 3 each large/small plates, bowls, mugs, glasses, sets of utensils',\n",
       " 'Slice a cucumber',\n",
       " 'Slice a potato',\n",
       " 'Slice bread',\n",
       " 'Spread almond butter on a bread slice',\n",
       " 'Spread jelly on a bread slice',\n",
       " 'Stack on table: 3 each large/small plates, bowls',\n",
       " 'Unload dishwasher: 3 each large/small plates, bowls, mugs, glasses, sets of utensils'}"
      ]
     },
     "execution_count": 13,
     "metadata": {},
     "output_type": "execute_result"
    }
   ],
   "source": [
    "set(activities_labels)"
   ]
  },
  {
   "cell_type": "code",
   "execution_count": 14,
   "metadata": {},
   "outputs": [
    {
     "data": {
      "text/plain": [
       "['data', 'time_s', 'time_str']"
      ]
     },
     "execution_count": 14,
     "metadata": {},
     "output_type": "execute_result"
    }
   ],
   "source": [
    "list(h5_file[\"experiment-activities\"]['activities'])"
   ]
  },
  {
   "attachments": {},
   "cell_type": "markdown",
   "metadata": {},
   "source": [
    "# Their classifier"
   ]
  },
  {
   "cell_type": "code",
   "execution_count": 15,
   "metadata": {},
   "outputs": [
    {
     "ename": "FileNotFoundError",
     "evalue": "[Errno 2] Unable to open file (unable to open file: name = 'recording_timestamps.hdf5', errno = 2, error message = 'No such file or directory', flags = 0, o_flags = 0)",
     "output_type": "error",
     "traceback": [
      "\u001b[1;31m---------------------------------------------------------------------------\u001b[0m",
      "\u001b[1;31mFileNotFoundError\u001b[0m                         Traceback (most recent call last)",
      "Cell \u001b[1;32mIn[15], line 4\u001b[0m\n\u001b[0;32m      1\u001b[0m \u001b[39mimport\u001b[39;00m \u001b[39mh5py\u001b[39;00m\u001b[39m,\u001b[39m \u001b[39mnumpy\u001b[39;00m \u001b[39mas\u001b[39;00m \u001b[39mnp\u001b[39;00m\n\u001b[0;32m      3\u001b[0m path \u001b[39m=\u001b[39m \u001b[39m\"\u001b[39m\u001b[39mrecording_timestamps.hdf5\u001b[39m\u001b[39m\"\u001b[39m\n\u001b[1;32m----> 4\u001b[0m h5_file \u001b[39m=\u001b[39m h5py\u001b[39m.\u001b[39;49mFile(path)\n",
      "File \u001b[1;32mc:\\Users\\NonAv\\AppData\\Local\\Programs\\Python\\Python310\\lib\\site-packages\\h5py\\_hl\\files.py:567\u001b[0m, in \u001b[0;36mFile.__init__\u001b[1;34m(self, name, mode, driver, libver, userblock_size, swmr, rdcc_nslots, rdcc_nbytes, rdcc_w0, track_order, fs_strategy, fs_persist, fs_threshold, fs_page_size, page_buf_size, min_meta_keep, min_raw_keep, locking, alignment_threshold, alignment_interval, meta_block_size, **kwds)\u001b[0m\n\u001b[0;32m    558\u001b[0m     fapl \u001b[39m=\u001b[39m make_fapl(driver, libver, rdcc_nslots, rdcc_nbytes, rdcc_w0,\n\u001b[0;32m    559\u001b[0m                      locking, page_buf_size, min_meta_keep, min_raw_keep,\n\u001b[0;32m    560\u001b[0m                      alignment_threshold\u001b[39m=\u001b[39malignment_threshold,\n\u001b[0;32m    561\u001b[0m                      alignment_interval\u001b[39m=\u001b[39malignment_interval,\n\u001b[0;32m    562\u001b[0m                      meta_block_size\u001b[39m=\u001b[39mmeta_block_size,\n\u001b[0;32m    563\u001b[0m                      \u001b[39m*\u001b[39m\u001b[39m*\u001b[39mkwds)\n\u001b[0;32m    564\u001b[0m     fcpl \u001b[39m=\u001b[39m make_fcpl(track_order\u001b[39m=\u001b[39mtrack_order, fs_strategy\u001b[39m=\u001b[39mfs_strategy,\n\u001b[0;32m    565\u001b[0m                      fs_persist\u001b[39m=\u001b[39mfs_persist, fs_threshold\u001b[39m=\u001b[39mfs_threshold,\n\u001b[0;32m    566\u001b[0m                      fs_page_size\u001b[39m=\u001b[39mfs_page_size)\n\u001b[1;32m--> 567\u001b[0m     fid \u001b[39m=\u001b[39m make_fid(name, mode, userblock_size, fapl, fcpl, swmr\u001b[39m=\u001b[39;49mswmr)\n\u001b[0;32m    569\u001b[0m \u001b[39mif\u001b[39;00m \u001b[39misinstance\u001b[39m(libver, \u001b[39mtuple\u001b[39m):\n\u001b[0;32m    570\u001b[0m     \u001b[39mself\u001b[39m\u001b[39m.\u001b[39m_libver \u001b[39m=\u001b[39m libver\n",
      "File \u001b[1;32mc:\\Users\\NonAv\\AppData\\Local\\Programs\\Python\\Python310\\lib\\site-packages\\h5py\\_hl\\files.py:231\u001b[0m, in \u001b[0;36mmake_fid\u001b[1;34m(name, mode, userblock_size, fapl, fcpl, swmr)\u001b[0m\n\u001b[0;32m    229\u001b[0m     \u001b[39mif\u001b[39;00m swmr \u001b[39mand\u001b[39;00m swmr_support:\n\u001b[0;32m    230\u001b[0m         flags \u001b[39m|\u001b[39m\u001b[39m=\u001b[39m h5f\u001b[39m.\u001b[39mACC_SWMR_READ\n\u001b[1;32m--> 231\u001b[0m     fid \u001b[39m=\u001b[39m h5f\u001b[39m.\u001b[39;49mopen(name, flags, fapl\u001b[39m=\u001b[39;49mfapl)\n\u001b[0;32m    232\u001b[0m \u001b[39melif\u001b[39;00m mode \u001b[39m==\u001b[39m \u001b[39m'\u001b[39m\u001b[39mr+\u001b[39m\u001b[39m'\u001b[39m:\n\u001b[0;32m    233\u001b[0m     fid \u001b[39m=\u001b[39m h5f\u001b[39m.\u001b[39mopen(name, h5f\u001b[39m.\u001b[39mACC_RDWR, fapl\u001b[39m=\u001b[39mfapl)\n",
      "File \u001b[1;32mh5py\\_objects.pyx:54\u001b[0m, in \u001b[0;36mh5py._objects.with_phil.wrapper\u001b[1;34m()\u001b[0m\n",
      "File \u001b[1;32mh5py\\_objects.pyx:55\u001b[0m, in \u001b[0;36mh5py._objects.with_phil.wrapper\u001b[1;34m()\u001b[0m\n",
      "File \u001b[1;32mh5py\\h5f.pyx:106\u001b[0m, in \u001b[0;36mh5py.h5f.open\u001b[1;34m()\u001b[0m\n",
      "\u001b[1;31mFileNotFoundError\u001b[0m: [Errno 2] Unable to open file (unable to open file: name = 'recording_timestamps.hdf5', errno = 2, error message = 'No such file or directory', flags = 0, o_flags = 0)"
     ]
    }
   ],
   "source": [
    "import h5py, numpy as np\n",
    "\n",
    "path = \"recording_timestamps.hdf5\"\n",
    "h5_file = h5py.File(path)"
   ]
  },
  {
   "cell_type": "code",
   "execution_count": null,
   "metadata": {},
   "outputs": [
    {
     "data": {
      "text/plain": [
       "<KeysViewHDF5 ['experiment-notes', 'overhead', 'sink']>"
      ]
     },
     "execution_count": 11,
     "metadata": {},
     "output_type": "execute_result"
    }
   ],
   "source": [
    "h5_file.keys()"
   ]
  },
  {
   "cell_type": "code",
   "execution_count": null,
   "metadata": {},
   "outputs": [
    {
     "data": {
      "text/plain": [
       "<KeysViewHDF5 ['data', 'time_s', 'time_str']>"
      ]
     },
     "execution_count": 16,
     "metadata": {},
     "output_type": "execute_result"
    }
   ],
   "source": [
    "h5_file[\"overhead\"][\"chunk_timestamp\"].keys()"
   ]
  },
  {
   "cell_type": "code",
   "execution_count": null,
   "metadata": {},
   "outputs": [
    {
     "data": {
      "text/html": [
       "<div>\n",
       "<style scoped>\n",
       "    .dataframe tbody tr th:only-of-type {\n",
       "        vertical-align: middle;\n",
       "    }\n",
       "\n",
       "    .dataframe tbody tr th {\n",
       "        vertical-align: top;\n",
       "    }\n",
       "\n",
       "    .dataframe thead th {\n",
       "        text-align: right;\n",
       "    }\n",
       "</style>\n",
       "<table border=\"1\" class=\"dataframe\">\n",
       "  <thead>\n",
       "    <tr style=\"text-align: right;\">\n",
       "      <th></th>\n",
       "      <th>0</th>\n",
       "    </tr>\n",
       "  </thead>\n",
       "  <tbody>\n",
       "    <tr>\n",
       "      <th>0</th>\n",
       "      <td>b'2022-06-14 16:36:57.348811'</td>\n",
       "    </tr>\n",
       "    <tr>\n",
       "      <th>1</th>\n",
       "      <td>b'2022-06-14 16:36:57.348962'</td>\n",
       "    </tr>\n",
       "    <tr>\n",
       "      <th>2</th>\n",
       "      <td>b'2022-06-14 16:36:57.391858'</td>\n",
       "    </tr>\n",
       "    <tr>\n",
       "      <th>3</th>\n",
       "      <td>b'2022-06-14 16:36:57.476840'</td>\n",
       "    </tr>\n",
       "    <tr>\n",
       "      <th>4</th>\n",
       "      <td>b'2022-06-14 16:36:57.476921'</td>\n",
       "    </tr>\n",
       "    <tr>\n",
       "      <th>...</th>\n",
       "      <td>...</td>\n",
       "    </tr>\n",
       "    <tr>\n",
       "      <th>88139</th>\n",
       "      <td>b'2022-06-14 17:39:43.501784'</td>\n",
       "    </tr>\n",
       "    <tr>\n",
       "      <th>88140</th>\n",
       "      <td>b'2022-06-14 17:39:43.501878'</td>\n",
       "    </tr>\n",
       "    <tr>\n",
       "      <th>88141</th>\n",
       "      <td>b'2022-06-14 17:39:43.544848'</td>\n",
       "    </tr>\n",
       "    <tr>\n",
       "      <th>88142</th>\n",
       "      <td>b'2022-06-14 17:39:43.629788'</td>\n",
       "    </tr>\n",
       "    <tr>\n",
       "      <th>88143</th>\n",
       "      <td>b'2022-06-14 17:39:43.629880'</td>\n",
       "    </tr>\n",
       "  </tbody>\n",
       "</table>\n",
       "<p>88144 rows × 1 columns</p>\n",
       "</div>"
      ],
      "text/plain": [
       "                                   0\n",
       "0      b'2022-06-14 16:36:57.348811'\n",
       "1      b'2022-06-14 16:36:57.348962'\n",
       "2      b'2022-06-14 16:36:57.391858'\n",
       "3      b'2022-06-14 16:36:57.476840'\n",
       "4      b'2022-06-14 16:36:57.476921'\n",
       "...                              ...\n",
       "88139  b'2022-06-14 17:39:43.501784'\n",
       "88140  b'2022-06-14 17:39:43.501878'\n",
       "88141  b'2022-06-14 17:39:43.544848'\n",
       "88142  b'2022-06-14 17:39:43.629788'\n",
       "88143  b'2022-06-14 17:39:43.629880'\n",
       "\n",
       "[88144 rows x 1 columns]"
      ]
     },
     "execution_count": 26,
     "metadata": {},
     "output_type": "execute_result"
    }
   ],
   "source": [
    "pd.DataFrame(h5_file[\"overhead\"][\"chunk_timestamp\"][\"time_str\"])"
   ]
  },
  {
   "cell_type": "code",
   "execution_count": 18,
   "metadata": {},
   "outputs": [],
   "source": []
  },
  {
   "cell_type": "code",
   "execution_count": 53,
   "metadata": {},
   "outputs": [
    {
     "data": {
      "text/plain": [
       "{'Spread jelly on a bread slice': 'Spread',\n",
       " 'Get/replace items from refrigerator/cabinets/drawers': 'Get/Put',\n",
       " 'Clear cutting board': 'Clear',\n",
       " 'Slice a cucumber': 'Slice',\n",
       " 'Clean a pan with a sponge': 'Clean',\n",
       " 'Clean a pan with a towel': 'Clean',\n",
       " 'Get items from refrigerator/cabinets/drawers': 'Get/Put',\n",
       " 'Slice a potato': 'Slice',\n",
       " 'Pour water from a pitcher into a glass': 'Pour',\n",
       " 'Spread almond butter on a bread slice': 'Spread',\n",
       " 'Load dishwasher: 3 each large/small plates, bowls, mugs, glasses, sets of utensils': 'Load',\n",
       " 'Slice bread': 'Slice',\n",
       " 'Clean a plate with a sponge': 'Clean',\n",
       " 'Peel a cucumber': 'Peel',\n",
       " 'Clean a plate with a towel': 'Clean',\n",
       " 'Open a jar of almond butter': 'Open/Close',\n",
       " 'Peel a potato': 'Peel',\n",
       " 'Open/close a jar of almond butter': 'Open/Close',\n",
       " 'Set table: 3 each large/small plates, bowls, mugs, glasses, sets of utensils': 'Set',\n",
       " 'Stack on table: 3 each large/small plates, bowls': 'Stack',\n",
       " 'Get items from cabinets: 3 each large/small plates, bowls, mugs, glasses, sets of utensils': 'Get/Put',\n",
       " 'Unload dishwasher: 3 each large/small plates, bowls, mugs, glasses, sets of utensils': 'Unload'}"
      ]
     },
     "execution_count": 53,
     "metadata": {},
     "output_type": "execute_result"
    }
   ],
   "source": [
    "action_net = pd.read_pickle(\"./action-net/ActionNet_train.pkl\")\n",
    "action_dict = {}\n",
    "for i,row in action_net[[\"description\", \"labels\"]].iterrows():\n",
    "    desc = row[0]\n",
    "    label = row[1]\n",
    "    action_dict[desc] = label\n",
    "action_dict"
   ]
  }
 ],
 "metadata": {
  "kernelspec": {
   "display_name": "tests",
   "language": "python",
   "name": "python3"
  },
  "language_info": {
   "codemirror_mode": {
    "name": "ipython",
    "version": 3
   },
   "file_extension": ".py",
   "mimetype": "text/x-python",
   "name": "python",
   "nbconvert_exporter": "python",
   "pygments_lexer": "ipython3",
   "version": "3.10.9"
  },
  "orig_nbformat": 4,
  "vscode": {
   "interpreter": {
    "hash": "ffa4e3b9a73a267e32baeadd38c7ef5d97d190b34944b5a89d722fab40e071d6"
   }
  }
 },
 "nbformat": 4,
 "nbformat_minor": 2
}
